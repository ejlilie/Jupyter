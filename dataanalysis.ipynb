{
 "cells": [
  {
   "cell_type": "code",
   "execution_count": 4,
   "metadata": {
    "tags": []
   },
   "outputs": [],
   "source": [
    "%matplotlib inline\n",
    "import numpy as np\n",
    "import matplotlib as mpl\n",
    "import matplotlib.pyplot as plt\n",
    "from scipy.optimize import curve_fit\n",
    "import os,re\n",
    "import psycopg2 as pg2"
   ]
  },
  {
   "cell_type": "code",
   "execution_count": 35,
   "metadata": {
    "tags": []
   },
   "outputs": [],
   "source": [
    "def config():\n",
    "    global database, user, password\n",
    "    database = 'Sample Database'\n",
    "    user = 'postgres'\n",
    "    password = 'W402ibdt$$'\n",
    "    \n",
    "config()\n",
    "conn = pg2.connect(database = database , user = user, password = password)\n",
    "cur = conn.cursor()\n",
    "First_Name = 'Ben'\n",
    "Age = 33\n",
    "Color = 'Yellow'\n",
    "cur.execute('INSERT INTO Sample_Table(column3,column2, column4) VALUES (%s,%s,%s)', (First_Name, Age, Color))\n",
    "conn.commit()\n",
    "conn.close()"
   ]
  },
  {
   "cell_type": "code",
   "execution_count": 38,
   "metadata": {},
   "outputs": [
    {
     "name": "stdout",
     "output_type": "stream",
     "text": [
      "[(1, 50, 'John', None), (2, 50, 'Jack', 'Red'), (3, 33, 'Ben', 'Yellow')]\n"
     ]
    }
   ],
   "source": [
    "conn = pg2.connect(database=database, user=user, password=password)\n",
    "cur = conn.cursor()\n",
    "cur.execute('SELECT * FROM Sample_Table')\n",
    "data = cur.fetchall()\n",
    "conn.close()\n",
    "\n",
    "print(data)"
   ]
  },
  {
   "cell_type": "code",
   "execution_count": 43,
   "metadata": {},
   "outputs": [
    {
     "name": "stdout",
     "output_type": "stream",
     "text": [
      "[(1,), (2,), (3,)] [(50,), (50,), (33,)]\n"
     ]
    },
    {
     "data": {
      "image/png": "[encoded data removed]",
      "text/plain": [
       "<Figure size 432x288 with 1 Axes>"
      ]
     },
     "metadata": {
      "needs_background": "light"
     },
     "output_type": "display_data"
    }
   ],
   "source": [
    "conn = pg2.connect(database=database, user=user, password=password)\n",
    "cur = conn.cursor()\n",
    "cur.execute('SELECT column1 FROM Sample_Table')\n",
    "data1 = cur.fetchall()\n",
    "cur.execute('SELECT column2 FROM Sample_Table')\n",
    "data2 = cur.fetchall()\n",
    "conn.close()\n",
    "\n",
    "print(data1, data2)\n",
    "plt.plot(data1, data2)\n",
    "plt.show()\n"
   ]
  },
  {
   "cell_type": "code",
   "execution_count": null,
   "metadata": {},
   "outputs": [],
   "source": []
  }
 ],
 "metadata": {
  "kernelspec": {
   "display_name": "Python 3 (ipykernel)",
   "language": "python",
   "name": "python3"
  },
  "language_info": {
   "codemirror_mode": {
    "name": "ipython",
    "version": 3
   },
   "file_extension": ".py",
   "mimetype": "text/x-python",
   "name": "python",
   "nbconvert_exporter": "python",
   "pygments_lexer": "ipython3",
   "version": "3.9.6"
  }
 },
 "nbformat": 4,
 "nbformat_minor": 4
}
